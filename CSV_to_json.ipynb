{
 "cells": [
  {
   "cell_type": "code",
   "execution_count": 4,
   "source": [
    "import pandas as pd\r\n",
    "import datetime\r\n",
    "import numpy as np\r\n",
    "import pandas as pd\r\n",
    "import datetime"
   ],
   "outputs": [],
   "metadata": {}
  },
  {
   "cell_type": "code",
   "execution_count": 5,
   "source": [
    "dfAtual = pd.read_csv('base_de_dados/Base_de_dados.csv', sep=';')\r\n",
    "dfAtual.rename(columns={\"Unnamed: 0\": \"data\", \"Unnamed: 1\": \"bairro\", \"Unnamed: 2\": \"faixa_etaria\"}, inplace=True)\r\n",
    "dfAtual.info()"
   ],
   "outputs": [
    {
     "output_type": "stream",
     "name": "stdout",
     "text": [
      "<class 'pandas.core.frame.DataFrame'>\n",
      "RangeIndex: 84274 entries, 0 to 84273\n",
      "Data columns (total 11 columns):\n",
      " #   Column                         Non-Null Count  Dtype  \n",
      "---  ------                         --------------  -----  \n",
      " 0   data                           84274 non-null  object \n",
      " 1   bairro                         84274 non-null  object \n",
      " 2   faixa_etaria                   84274 non-null  object \n",
      " 3   casos confirmados              84274 non-null  int64  \n",
      " 4   obitos                         84274 non-null  float64\n",
      " 5   confirmados_masculinos         84274 non-null  int64  \n",
      " 6   confirmados_feminino           84274 non-null  int64  \n",
      " 7   obitos_masculinos              84274 non-null  float64\n",
      " 8   obitos_feminino                84274 non-null  float64\n",
      " 9   casos_confirmados_normalizado  84274 non-null  float64\n",
      " 10  obitos_normalizado             84274 non-null  float64\n",
      "dtypes: float64(5), int64(3), object(3)\n",
      "memory usage: 7.1+ MB\n"
     ]
    }
   ],
   "metadata": {}
  },
  {
   "cell_type": "code",
   "execution_count": 6,
   "source": [
    "dfAtual.to_json('base_de_dados/Base_de_dados.json',orient=\"records\")"
   ],
   "outputs": [],
   "metadata": {}
  },
  {
   "cell_type": "code",
   "execution_count": null,
   "source": [],
   "outputs": [],
   "metadata": {}
  }
 ],
 "metadata": {
  "orig_nbformat": 4,
  "language_info": {
   "name": "python",
   "version": "3.8.8",
   "mimetype": "text/x-python",
   "codemirror_mode": {
    "name": "ipython",
    "version": 3
   },
   "pygments_lexer": "ipython3",
   "nbconvert_exporter": "python",
   "file_extension": ".py"
  },
  "kernelspec": {
   "name": "python3",
   "display_name": "Python 3.8.8 64-bit ('base': conda)"
  },
  "interpreter": {
   "hash": "919112cc80c6b07eeb549590a5e39b67b94652585cc01f43abba05e0dcfc311b"
  }
 },
 "nbformat": 4,
 "nbformat_minor": 2
}