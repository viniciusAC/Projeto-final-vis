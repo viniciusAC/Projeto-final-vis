{
 "cells": [
  {
   "cell_type": "code",
   "execution_count": 1,
   "source": [
    "import pandas as pd\r\n",
    "import datetime\r\n",
    "import numpy as np\r\n",
    "import pandas as pd\r\n",
    "import datetime"
   ],
   "outputs": [],
   "metadata": {}
  },
  {
   "cell_type": "code",
   "execution_count": 7,
   "source": [
    "dfAtual = pd.read_csv('base_de_dados/Base_de_dados.csv', sep=';')\r\n",
    "dfAtual.rename(columns={\"Unnamed: 0\": \"data\", \"Unnamed: 1\": \"bairro\", \"Unnamed: 2\": \"faixa_etaria\"}, inplace=True)\r\n",
    "dfAtual['data'] = pd.to_datetime(dfAtual['data'])\r\n",
    "dfAtual.info()"
   ],
   "outputs": [
    {
     "output_type": "stream",
     "name": "stdout",
     "text": [
      "<class 'pandas.core.frame.DataFrame'>\n",
      "RangeIndex: 95503 entries, 0 to 95502\n",
      "Data columns (total 10 columns):\n",
      " #   Column                  Non-Null Count  Dtype         \n",
      "---  ------                  --------------  -----         \n",
      " 0   data                    95503 non-null  datetime64[ns]\n",
      " 1   bairro                  95503 non-null  object        \n",
      " 2   faixa_etaria            95503 non-null  object        \n",
      " 3   casos confirmados       95503 non-null  float64       \n",
      " 4   obitos                  95503 non-null  float64       \n",
      " 5   media de idade          95503 non-null  float64       \n",
      " 6   confirmados_masculinos  95503 non-null  float64       \n",
      " 7   confirmados_feminino    95503 non-null  float64       \n",
      " 8   obitos_masculinos       95503 non-null  float64       \n",
      " 9   obitos_feminino         95503 non-null  float64       \n",
      "dtypes: datetime64[ns](1), float64(7), object(2)\n",
      "memory usage: 7.3+ MB\n"
     ]
    }
   ],
   "metadata": {}
  },
  {
   "cell_type": "code",
   "execution_count": null,
   "source": [
    "dfAtual.to_json('base_de_dados/Base_de_dados.json',orient=\"records\")"
   ],
   "outputs": [],
   "metadata": {}
  }
 ],
 "metadata": {
  "orig_nbformat": 4,
  "language_info": {
   "name": "python",
   "version": "3.8.8",
   "mimetype": "text/x-python",
   "codemirror_mode": {
    "name": "ipython",
    "version": 3
   },
   "pygments_lexer": "ipython3",
   "nbconvert_exporter": "python",
   "file_extension": ".py"
  },
  "kernelspec": {
   "name": "python3",
   "display_name": "Python 3.8.8 64-bit ('base': conda)"
  },
  "interpreter": {
   "hash": "919112cc80c6b07eeb549590a5e39b67b94652585cc01f43abba05e0dcfc311b"
  }
 },
 "nbformat": 4,
 "nbformat_minor": 2
}