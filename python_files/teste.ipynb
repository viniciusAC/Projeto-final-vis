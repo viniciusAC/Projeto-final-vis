{
 "cells": [
  {
   "cell_type": "code",
   "execution_count": 12,
   "source": [
    "import pandas as pd\r\n",
    "import datetime\r\n",
    "import numpy as np\r\n",
    "import pandas as pd\r\n",
    "import datetime"
   ],
   "outputs": [],
   "metadata": {}
  },
  {
   "cell_type": "code",
   "execution_count": 13,
   "source": [
    "dfAtual = pd.read_csv('base_de_dados/dados_bairros.csv', sep=';')\r\n",
    "dfAtual.info()"
   ],
   "outputs": [
    {
     "output_type": "stream",
     "name": "stdout",
     "text": [
      "<class 'pandas.core.frame.DataFrame'>\n",
      "RangeIndex: 121 entries, 0 to 120\n",
      "Data columns (total 3 columns):\n",
      " #   Column             Non-Null Count  Dtype  \n",
      "---  ------             --------------  -----  \n",
      " 0   Bairros            121 non-null    object \n",
      " 1   IDH em 2010[8]     121 non-null    float64\n",
      " 2   populaçao em 2020  121 non-null    int64  \n",
      "dtypes: float64(1), int64(1), object(1)\n",
      "memory usage: 3.0+ KB\n"
     ]
    }
   ],
   "metadata": {}
  },
  {
   "cell_type": "code",
   "execution_count": 14,
   "source": [
    "dfAtual['Bairros'] = dfAtual['Bairros'].str.upper()\r\n",
    "dfAtual.Bairros.value_counts()"
   ],
   "outputs": [
    {
     "output_type": "execute_result",
     "data": {
      "text/plain": [
       "GENIBAU               1\n",
       "GUARARAPES            1\n",
       "SAO GERARDO           1\n",
       "DOM LUSTOSA           1\n",
       "SAO JOAO DO TAUAPE    1\n",
       "                     ..\n",
       "CARLITO PAMPLONA      1\n",
       "MONTE CASTELO         1\n",
       "CIDADE 2000           1\n",
       "PRAIA DO FUTURO II    1\n",
       "RODOLFO TEOFILO       1\n",
       "Name: Bairros, Length: 121, dtype: int64"
      ]
     },
     "metadata": {},
     "execution_count": 14
    }
   ],
   "metadata": {}
  },
  {
   "cell_type": "code",
   "execution_count": 15,
   "source": [
    "dfAtual.set_index(['Bairros'], inplace=True)\r\n",
    "dfAtual.to_csv('base_de_dados/dados_bairros.csv', sep=',')"
   ],
   "outputs": [],
   "metadata": {}
  },
  {
   "cell_type": "code",
   "execution_count": null,
   "source": [],
   "outputs": [],
   "metadata": {}
  }
 ],
 "metadata": {
  "orig_nbformat": 4,
  "language_info": {
   "name": "python",
   "version": "3.8.8",
   "mimetype": "text/x-python",
   "codemirror_mode": {
    "name": "ipython",
    "version": 3
   },
   "pygments_lexer": "ipython3",
   "nbconvert_exporter": "python",
   "file_extension": ".py"
  },
  "kernelspec": {
   "name": "python3",
   "display_name": "Python 3.8.8 64-bit ('base': conda)"
  },
  "interpreter": {
   "hash": "919112cc80c6b07eeb549590a5e39b67b94652585cc01f43abba05e0dcfc311b"
  }
 },
 "nbformat": 4,
 "nbformat_minor": 2
}