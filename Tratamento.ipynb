{
 "metadata": {
  "language_info": {
   "codemirror_mode": {
    "name": "ipython",
    "version": 3
   },
   "file_extension": ".py",
   "mimetype": "text/x-python",
   "name": "python",
   "nbconvert_exporter": "python",
   "pygments_lexer": "ipython3",
   "version": "3.8.8"
  },
  "orig_nbformat": 2,
  "kernelspec": {
   "name": "python3",
   "display_name": "Python 3.8.8 64-bit ('base': conda)"
  },
  "interpreter": {
   "hash": "919112cc80c6b07eeb549590a5e39b67b94652585cc01f43abba05e0dcfc311b"
  }
 },
 "nbformat": 4,
 "nbformat_minor": 2,
 "cells": [
  {
   "cell_type": "code",
   "execution_count": 65,
   "source": [
    "import pandas as pd\r\n",
    "import datetime\r\n",
    "import numpy as np\r\n",
    "import pandas as pd\r\n",
    "import datetime"
   ],
   "outputs": [],
   "metadata": {}
  },
  {
   "cell_type": "code",
   "execution_count": 66,
   "source": [
    "dfAtual = pd.read_csv('Base_de_dados/dados_limpos.csv', sep=';')\r\n",
    "dfAtual['dataCaso'] = pd.to_datetime(dfAtual['dataCaso'])\r\n",
    "# data['dataCaso'] = data['dataCaso'].dt.date"
   ],
   "outputs": [
    {
     "output_type": "stream",
     "name": "stderr",
     "text": [
      "A:\\anaconda3\\lib\\site-packages\\IPython\\core\\interactiveshell.py:3165: DtypeWarning: Columns (2) have mixed types.Specify dtype option on import or set low_memory=False.\n",
      "  has_raised = await self.run_ast_nodes(code_ast.body, cell_name,\n"
     ]
    }
   ],
   "metadata": {}
  },
  {
   "cell_type": "code",
   "execution_count": 67,
   "source": [
    "filtroDt = (dfAtual.dataCaso >= datetime.datetime(2020, 3, 1)) & (dfAtual.dataCaso <= datetime.datetime(2021, 10, 7))\r\n",
    "df1 = dfAtual[filtroDt]"
   ],
   "outputs": [],
   "metadata": {}
  },
  {
   "cell_type": "code",
   "execution_count": 68,
   "source": [
    "df1.info()"
   ],
   "outputs": [
    {
     "output_type": "stream",
     "name": "stdout",
     "text": [
      "<class 'pandas.core.frame.DataFrame'>\n",
      "Int64Index: 1370752 entries, 0 to 1372750\n",
      "Data columns (total 11 columns):\n",
      " #   Column                 Non-Null Count    Dtype         \n",
      "---  ------                 --------------    -----         \n",
      " 0   Unnamed: 0             1370752 non-null  int64         \n",
      " 1   identificadorCaso      1370752 non-null  object        \n",
      " 2   profissionalSaudeEsus  603398 non-null   object        \n",
      " 3   bairroCaso             1370752 non-null  object        \n",
      " 4   sexoCaso               1370752 non-null  object        \n",
      " 5   idadeCaso              1369015 non-null  float64       \n",
      " 6   faixaEtaria            1370752 non-null  object        \n",
      " 7   resultadoFinalExame    1370752 non-null  object        \n",
      " 8   obitoConfirmado        1370752 non-null  object        \n",
      " 9   dataCaso               1370752 non-null  datetime64[ns]\n",
      " 10  profissoes             36702 non-null    object        \n",
      "dtypes: datetime64[ns](1), float64(1), int64(1), object(8)\n",
      "memory usage: 125.5+ MB\n"
     ]
    }
   ],
   "metadata": {}
  },
  {
   "cell_type": "code",
   "execution_count": 69,
   "source": [
    "df1.faixaEtaria.value_counts().index.to_list()"
   ],
   "outputs": [
    {
     "output_type": "execute_result",
     "data": {
      "text/plain": [
       "['35 a 39 anos',\n",
       " '30 a 34 anos',\n",
       " '40 a 44 anos',\n",
       " '25 a 29 anos',\n",
       " '20 a 24 anos',\n",
       " '45 a 49 anos',\n",
       " '50 a 54 anos',\n",
       " '55 a 59 anos',\n",
       " '60 a 64 anos',\n",
       " '15 a 19 anos',\n",
       " '65 a 69 anos',\n",
       " '00 a 04 anos',\n",
       " '70 a 74 anos',\n",
       " '80 ou mais',\n",
       " '10 a 14 anos',\n",
       " '05 a 09 anos',\n",
       " '75 a 79 anos',\n",
       " 'Sem Informacao']"
      ]
     },
     "metadata": {},
     "execution_count": 69
    }
   ],
   "metadata": {}
  },
  {
   "cell_type": "markdown",
   "source": [
    "# COISAS QUE QUERO TRANSFORMAR EM NUMERICA:\r\n",
    "- Numero de obitos (FOI)\r\n",
    "- Numero de casos positivos (FOI)\r\n",
    "- Media de idade por dia (FOI)\r\n",
    "- Obitos e casos por sexo (FOI)\r\n",
    "- Obitos e casos por raça por faixa de idade"
   ],
   "metadata": {}
  },
  {
   "cell_type": "markdown",
   "source": [
    "# =============================================================================="
   ],
   "metadata": {}
  },
  {
   "cell_type": "markdown",
   "source": [
    "# Refatorando faixa etaria"
   ],
   "metadata": {}
  },
  {
   "cell_type": "code",
   "execution_count": 70,
   "source": [
    "df1.faixaEtaria.replace('00 a 04 anos', '00 a 19 anos', inplace=True)\r\n",
    "df1.faixaEtaria.replace('05 a 09 anos', '00 a 19 anos', inplace=True)\r\n",
    "df1.faixaEtaria.replace('10 a 14 anos', '00 a 19 anos', inplace=True)\r\n",
    "df1.faixaEtaria.replace('15 a 19 anos', '00 a 19 anos', inplace=True)\r\n",
    "df1.faixaEtaria.replace('20 a 24 anos', '20 a 39 anos', inplace=True)\r\n",
    "df1.faixaEtaria.replace('25 a 29 anos', '20 a 39 anos', inplace=True)\r\n",
    "df1.faixaEtaria.replace('30 a 34 anos', '20 a 39 anos', inplace=True)\r\n",
    "df1.faixaEtaria.replace('35 a 39 anos', '20 a 39 anos', inplace=True)\r\n",
    "df1.faixaEtaria.replace('40 a 44 anos', '40 a 59 anos', inplace=True)\r\n",
    "df1.faixaEtaria.replace('45 a 49 anos', '40 a 59 anos', inplace=True)\r\n",
    "df1.faixaEtaria.replace('50 a 54 anos', '40 a 59 anos', inplace=True)\r\n",
    "df1.faixaEtaria.replace('55 a 59 anos', '40 a 59 anos', inplace=True)\r\n",
    "df1.faixaEtaria.replace('60 a 64 anos', '60 a 79 anos', inplace=True)\r\n",
    "df1.faixaEtaria.replace('65 a 69 anos', '60 a 79 anos', inplace=True)\r\n",
    "df1.faixaEtaria.replace('70 a 74 anos', '60 a 79 anos', inplace=True)\r\n",
    "df1.faixaEtaria.replace('75 a 79 anos', '60 a 79 anos', inplace=True)"
   ],
   "outputs": [
    {
     "output_type": "stream",
     "name": "stderr",
     "text": [
      "A:\\anaconda3\\lib\\site-packages\\pandas\\core\\series.py:4509: SettingWithCopyWarning: \n",
      "A value is trying to be set on a copy of a slice from a DataFrame\n",
      "\n",
      "See the caveats in the documentation: https://pandas.pydata.org/pandas-docs/stable/user_guide/indexing.html#returning-a-view-versus-a-copy\n",
      "  return super().replace(\n"
     ]
    }
   ],
   "metadata": {}
  },
  {
   "cell_type": "markdown",
   "source": [
    "# =============================================================================="
   ],
   "metadata": {}
  },
  {
   "cell_type": "markdown",
   "source": [
    "# Numero de casos confirmados"
   ],
   "metadata": {}
  },
  {
   "cell_type": "code",
   "execution_count": 71,
   "source": [
    "filtroConfirmado = (df1.resultadoFinalExame == 'Positivo')\r\n",
    "dfConfirmado = df1[filtroConfirmado]\r\n",
    "\r\n",
    "grouped = dfConfirmado.groupby(['dataCaso', 'bairroCaso', 'faixaEtaria'])['resultadoFinalExame'].count().reset_index().sort_values('dataCaso')\r\n",
    "\r\n",
    "num_confirmado = {'data': grouped.dataCaso.to_list(), 'bairro': grouped.bairroCaso.to_list(), 'faixa Etaria': grouped.faixaEtaria.to_list(), 'casos confirmados': grouped.resultadoFinalExame.to_list()}\r\n",
    "num_confirmado = pd.DataFrame(num_confirmado)"
   ],
   "outputs": [],
   "metadata": {}
  },
  {
   "cell_type": "code",
   "execution_count": 72,
   "source": [
    "num_confirmado.set_index(['data', 'bairro', 'faixa Etaria'], inplace=True)\r\n",
    "num_confirmado.head()"
   ],
   "outputs": [
    {
     "output_type": "execute_result",
     "data": {
      "text/plain": [
       "                                         casos confirmados\n",
       "data       bairro          faixa Etaria                   \n",
       "2020-03-01 AEROPORTO       60 a 79 anos                  1\n",
       "           JACARECANGA     20 a 39 anos                  2\n",
       "                           40 a 59 anos                  2\n",
       "           JARDIM AMERICA  20 a 39 anos                  1\n",
       "           JOSE DE ALENCAR 20 a 39 anos                  1"
      ],
      "text/html": [
       "<div>\n",
       "<style scoped>\n",
       "    .dataframe tbody tr th:only-of-type {\n",
       "        vertical-align: middle;\n",
       "    }\n",
       "\n",
       "    .dataframe tbody tr th {\n",
       "        vertical-align: top;\n",
       "    }\n",
       "\n",
       "    .dataframe thead th {\n",
       "        text-align: right;\n",
       "    }\n",
       "</style>\n",
       "<table border=\"1\" class=\"dataframe\">\n",
       "  <thead>\n",
       "    <tr style=\"text-align: right;\">\n",
       "      <th></th>\n",
       "      <th></th>\n",
       "      <th></th>\n",
       "      <th>casos confirmados</th>\n",
       "    </tr>\n",
       "    <tr>\n",
       "      <th>data</th>\n",
       "      <th>bairro</th>\n",
       "      <th>faixa Etaria</th>\n",
       "      <th></th>\n",
       "    </tr>\n",
       "  </thead>\n",
       "  <tbody>\n",
       "    <tr>\n",
       "      <th rowspan=\"5\" valign=\"top\">2020-03-01</th>\n",
       "      <th>AEROPORTO</th>\n",
       "      <th>60 a 79 anos</th>\n",
       "      <td>1</td>\n",
       "    </tr>\n",
       "    <tr>\n",
       "      <th rowspan=\"2\" valign=\"top\">JACARECANGA</th>\n",
       "      <th>20 a 39 anos</th>\n",
       "      <td>2</td>\n",
       "    </tr>\n",
       "    <tr>\n",
       "      <th>40 a 59 anos</th>\n",
       "      <td>2</td>\n",
       "    </tr>\n",
       "    <tr>\n",
       "      <th>JARDIM AMERICA</th>\n",
       "      <th>20 a 39 anos</th>\n",
       "      <td>1</td>\n",
       "    </tr>\n",
       "    <tr>\n",
       "      <th>JOSE DE ALENCAR</th>\n",
       "      <th>20 a 39 anos</th>\n",
       "      <td>1</td>\n",
       "    </tr>\n",
       "  </tbody>\n",
       "</table>\n",
       "</div>"
      ]
     },
     "metadata": {},
     "execution_count": 72
    }
   ],
   "metadata": {}
  },
  {
   "cell_type": "markdown",
   "source": [
    "# =============================================================================="
   ],
   "metadata": {}
  },
  {
   "cell_type": "markdown",
   "source": [
    "# Numero de obitos"
   ],
   "metadata": {}
  },
  {
   "cell_type": "code",
   "execution_count": 73,
   "source": [
    "filtroObito = (df1.obitoConfirmado == 'Verdadeiro')\r\n",
    "dfObito = df1[filtroObito]\r\n",
    "\r\n",
    "grouped = dfObito.groupby(['dataCaso', 'bairroCaso', 'faixaEtaria'])['obitoConfirmado'].count().reset_index().sort_values('dataCaso')\r\n",
    "\r\n",
    "num_obitos = {'data': grouped.dataCaso.to_list(), 'bairro': grouped.bairroCaso.to_list(), 'faixa Etaria': grouped.faixaEtaria.to_list(), 'obitos': grouped.obitoConfirmado.to_list()}\r\n",
    "num_obitos = pd.DataFrame(num_obitos)"
   ],
   "outputs": [],
   "metadata": {}
  },
  {
   "cell_type": "code",
   "execution_count": 74,
   "source": [
    "num_obitos.set_index(['data', 'bairro', 'faixa Etaria'], inplace=True)\r\n",
    "num_obitos.head()"
   ],
   "outputs": [
    {
     "output_type": "execute_result",
     "data": {
      "text/plain": [
       "                                          obitos\n",
       "data       bairro           faixa Etaria        \n",
       "2020-03-01 Indeterminado    80 ou mais         1\n",
       "2020-03-02 CAMBEBA          60 a 79 anos       1\n",
       "2020-03-05 DIONISIO TORRES  20 a 39 anos       1\n",
       "2020-03-09 CENTRO           60 a 79 anos       1\n",
       "2020-03-10 CONJUNTO CEARA I 60 a 79 anos       1"
      ],
      "text/html": [
       "<div>\n",
       "<style scoped>\n",
       "    .dataframe tbody tr th:only-of-type {\n",
       "        vertical-align: middle;\n",
       "    }\n",
       "\n",
       "    .dataframe tbody tr th {\n",
       "        vertical-align: top;\n",
       "    }\n",
       "\n",
       "    .dataframe thead th {\n",
       "        text-align: right;\n",
       "    }\n",
       "</style>\n",
       "<table border=\"1\" class=\"dataframe\">\n",
       "  <thead>\n",
       "    <tr style=\"text-align: right;\">\n",
       "      <th></th>\n",
       "      <th></th>\n",
       "      <th></th>\n",
       "      <th>obitos</th>\n",
       "    </tr>\n",
       "    <tr>\n",
       "      <th>data</th>\n",
       "      <th>bairro</th>\n",
       "      <th>faixa Etaria</th>\n",
       "      <th></th>\n",
       "    </tr>\n",
       "  </thead>\n",
       "  <tbody>\n",
       "    <tr>\n",
       "      <th>2020-03-01</th>\n",
       "      <th>Indeterminado</th>\n",
       "      <th>80 ou mais</th>\n",
       "      <td>1</td>\n",
       "    </tr>\n",
       "    <tr>\n",
       "      <th>2020-03-02</th>\n",
       "      <th>CAMBEBA</th>\n",
       "      <th>60 a 79 anos</th>\n",
       "      <td>1</td>\n",
       "    </tr>\n",
       "    <tr>\n",
       "      <th>2020-03-05</th>\n",
       "      <th>DIONISIO TORRES</th>\n",
       "      <th>20 a 39 anos</th>\n",
       "      <td>1</td>\n",
       "    </tr>\n",
       "    <tr>\n",
       "      <th>2020-03-09</th>\n",
       "      <th>CENTRO</th>\n",
       "      <th>60 a 79 anos</th>\n",
       "      <td>1</td>\n",
       "    </tr>\n",
       "    <tr>\n",
       "      <th>2020-03-10</th>\n",
       "      <th>CONJUNTO CEARA I</th>\n",
       "      <th>60 a 79 anos</th>\n",
       "      <td>1</td>\n",
       "    </tr>\n",
       "  </tbody>\n",
       "</table>\n",
       "</div>"
      ]
     },
     "metadata": {},
     "execution_count": 74
    }
   ],
   "metadata": {}
  },
  {
   "cell_type": "markdown",
   "source": [
    "# =============================================================================="
   ],
   "metadata": {}
  },
  {
   "cell_type": "markdown",
   "source": [
    "# Numeros segmentados pelo sexo"
   ],
   "metadata": {}
  },
  {
   "cell_type": "markdown",
   "source": [
    "## Confirmados"
   ],
   "metadata": {}
  },
  {
   "cell_type": "code",
   "execution_count": 75,
   "source": [
    "grouped = dfConfirmado.groupby(['sexoCaso', 'bairroCaso', 'faixaEtaria', pd.Grouper(key='dataCaso', freq='D')])['resultadoFinalExame'].count().reset_index().sort_values('dataCaso')"
   ],
   "outputs": [],
   "metadata": {}
  },
  {
   "cell_type": "code",
   "execution_count": 76,
   "source": [
    "grouped = pd.get_dummies(grouped, columns=['sexoCaso'])\r\n",
    "grouped['confirmados_masculinos'] = np.where(grouped['sexoCaso_MASCULINO'] == 1, grouped['resultadoFinalExame'], 0)\r\n",
    "grouped['confirmados_feminino'] = np.where(grouped['sexoCaso_FEMININO'] == 1, grouped['resultadoFinalExame'], 0)\r\n",
    "grouped.drop(columns=['resultadoFinalExame', 'sexoCaso_FEMININO', 'sexoCaso_MASCULINO'], inplace=True)"
   ],
   "outputs": [],
   "metadata": {}
  },
  {
   "cell_type": "code",
   "execution_count": 77,
   "source": [
    "aggregation_functions = {'confirmados_masculinos': 'sum', 'confirmados_feminino': 'sum'}\r\n",
    "num_confirmado_sexo = grouped.groupby(['dataCaso', 'bairroCaso', 'faixaEtaria']).aggregate(aggregation_functions)"
   ],
   "outputs": [],
   "metadata": {}
  },
  {
   "cell_type": "code",
   "execution_count": 78,
   "source": [
    "num_confirmado_sexo.head()"
   ],
   "outputs": [
    {
     "output_type": "execute_result",
     "data": {
      "text/plain": [
       "                                         confirmados_masculinos  \\\n",
       "dataCaso   bairroCaso      faixaEtaria                            \n",
       "2020-03-01 AEROPORTO       60 a 79 anos                       0   \n",
       "           ALDEOTA         20 a 39 anos                       1   \n",
       "                           40 a 59 anos                       0   \n",
       "           ANTONIO BEZERRA 20 a 39 anos                       1   \n",
       "                           60 a 79 anos                       1   \n",
       "\n",
       "                                         confirmados_feminino  \n",
       "dataCaso   bairroCaso      faixaEtaria                         \n",
       "2020-03-01 AEROPORTO       60 a 79 anos                     1  \n",
       "           ALDEOTA         20 a 39 anos                     0  \n",
       "                           40 a 59 anos                     2  \n",
       "           ANTONIO BEZERRA 20 a 39 anos                     0  \n",
       "                           60 a 79 anos                     0  "
      ],
      "text/html": [
       "<div>\n",
       "<style scoped>\n",
       "    .dataframe tbody tr th:only-of-type {\n",
       "        vertical-align: middle;\n",
       "    }\n",
       "\n",
       "    .dataframe tbody tr th {\n",
       "        vertical-align: top;\n",
       "    }\n",
       "\n",
       "    .dataframe thead th {\n",
       "        text-align: right;\n",
       "    }\n",
       "</style>\n",
       "<table border=\"1\" class=\"dataframe\">\n",
       "  <thead>\n",
       "    <tr style=\"text-align: right;\">\n",
       "      <th></th>\n",
       "      <th></th>\n",
       "      <th></th>\n",
       "      <th>confirmados_masculinos</th>\n",
       "      <th>confirmados_feminino</th>\n",
       "    </tr>\n",
       "    <tr>\n",
       "      <th>dataCaso</th>\n",
       "      <th>bairroCaso</th>\n",
       "      <th>faixaEtaria</th>\n",
       "      <th></th>\n",
       "      <th></th>\n",
       "    </tr>\n",
       "  </thead>\n",
       "  <tbody>\n",
       "    <tr>\n",
       "      <th rowspan=\"5\" valign=\"top\">2020-03-01</th>\n",
       "      <th>AEROPORTO</th>\n",
       "      <th>60 a 79 anos</th>\n",
       "      <td>0</td>\n",
       "      <td>1</td>\n",
       "    </tr>\n",
       "    <tr>\n",
       "      <th rowspan=\"2\" valign=\"top\">ALDEOTA</th>\n",
       "      <th>20 a 39 anos</th>\n",
       "      <td>1</td>\n",
       "      <td>0</td>\n",
       "    </tr>\n",
       "    <tr>\n",
       "      <th>40 a 59 anos</th>\n",
       "      <td>0</td>\n",
       "      <td>2</td>\n",
       "    </tr>\n",
       "    <tr>\n",
       "      <th rowspan=\"2\" valign=\"top\">ANTONIO BEZERRA</th>\n",
       "      <th>20 a 39 anos</th>\n",
       "      <td>1</td>\n",
       "      <td>0</td>\n",
       "    </tr>\n",
       "    <tr>\n",
       "      <th>60 a 79 anos</th>\n",
       "      <td>1</td>\n",
       "      <td>0</td>\n",
       "    </tr>\n",
       "  </tbody>\n",
       "</table>\n",
       "</div>"
      ]
     },
     "metadata": {},
     "execution_count": 78
    }
   ],
   "metadata": {}
  },
  {
   "cell_type": "markdown",
   "source": [
    "## Obitos"
   ],
   "metadata": {}
  },
  {
   "cell_type": "code",
   "execution_count": 79,
   "source": [
    "grouped = dfObito.groupby(['sexoCaso', 'bairroCaso', 'faixaEtaria', pd.Grouper(key='dataCaso', freq='D')])['obitoConfirmado'].count().reset_index().sort_values('dataCaso')"
   ],
   "outputs": [],
   "metadata": {}
  },
  {
   "cell_type": "code",
   "execution_count": 80,
   "source": [
    "grouped = pd.get_dummies(grouped, columns=['sexoCaso'])\r\n",
    "grouped['obitos_masculinos'] = np.where(grouped['sexoCaso_MASCULINO'] == 1, grouped['obitoConfirmado'], 0)\r\n",
    "grouped['obitos_feminino'] = np.where(grouped['sexoCaso_FEMININO'] == 1, grouped['obitoConfirmado'], 0)\r\n",
    "grouped.drop(columns=['obitoConfirmado', 'sexoCaso_FEMININO', 'sexoCaso_MASCULINO'], inplace=True)"
   ],
   "outputs": [],
   "metadata": {}
  },
  {
   "cell_type": "code",
   "execution_count": 81,
   "source": [
    "aggregation_functions = {'obitos_masculinos': 'sum', 'obitos_feminino': 'sum'}\r\n",
    "num_obitos_sexo = grouped.groupby(['dataCaso', 'bairroCaso', 'faixaEtaria']).aggregate(aggregation_functions)"
   ],
   "outputs": [],
   "metadata": {}
  },
  {
   "cell_type": "code",
   "execution_count": 82,
   "source": [
    "num_obitos_sexo.head()"
   ],
   "outputs": [
    {
     "output_type": "execute_result",
     "data": {
      "text/plain": [
       "                                          obitos_masculinos  obitos_feminino\n",
       "dataCaso   bairroCaso       faixaEtaria                                     \n",
       "2020-03-01 Indeterminado    80 ou mais                    1                0\n",
       "2020-03-02 CAMBEBA          60 a 79 anos                  1                0\n",
       "2020-03-05 DIONISIO TORRES  20 a 39 anos                  1                0\n",
       "2020-03-09 CENTRO           60 a 79 anos                  1                0\n",
       "2020-03-10 CONJUNTO CEARA I 60 a 79 anos                  0                1"
      ],
      "text/html": [
       "<div>\n",
       "<style scoped>\n",
       "    .dataframe tbody tr th:only-of-type {\n",
       "        vertical-align: middle;\n",
       "    }\n",
       "\n",
       "    .dataframe tbody tr th {\n",
       "        vertical-align: top;\n",
       "    }\n",
       "\n",
       "    .dataframe thead th {\n",
       "        text-align: right;\n",
       "    }\n",
       "</style>\n",
       "<table border=\"1\" class=\"dataframe\">\n",
       "  <thead>\n",
       "    <tr style=\"text-align: right;\">\n",
       "      <th></th>\n",
       "      <th></th>\n",
       "      <th></th>\n",
       "      <th>obitos_masculinos</th>\n",
       "      <th>obitos_feminino</th>\n",
       "    </tr>\n",
       "    <tr>\n",
       "      <th>dataCaso</th>\n",
       "      <th>bairroCaso</th>\n",
       "      <th>faixaEtaria</th>\n",
       "      <th></th>\n",
       "      <th></th>\n",
       "    </tr>\n",
       "  </thead>\n",
       "  <tbody>\n",
       "    <tr>\n",
       "      <th>2020-03-01</th>\n",
       "      <th>Indeterminado</th>\n",
       "      <th>80 ou mais</th>\n",
       "      <td>1</td>\n",
       "      <td>0</td>\n",
       "    </tr>\n",
       "    <tr>\n",
       "      <th>2020-03-02</th>\n",
       "      <th>CAMBEBA</th>\n",
       "      <th>60 a 79 anos</th>\n",
       "      <td>1</td>\n",
       "      <td>0</td>\n",
       "    </tr>\n",
       "    <tr>\n",
       "      <th>2020-03-05</th>\n",
       "      <th>DIONISIO TORRES</th>\n",
       "      <th>20 a 39 anos</th>\n",
       "      <td>1</td>\n",
       "      <td>0</td>\n",
       "    </tr>\n",
       "    <tr>\n",
       "      <th>2020-03-09</th>\n",
       "      <th>CENTRO</th>\n",
       "      <th>60 a 79 anos</th>\n",
       "      <td>1</td>\n",
       "      <td>0</td>\n",
       "    </tr>\n",
       "    <tr>\n",
       "      <th>2020-03-10</th>\n",
       "      <th>CONJUNTO CEARA I</th>\n",
       "      <th>60 a 79 anos</th>\n",
       "      <td>0</td>\n",
       "      <td>1</td>\n",
       "    </tr>\n",
       "  </tbody>\n",
       "</table>\n",
       "</div>"
      ]
     },
     "metadata": {},
     "execution_count": 82
    }
   ],
   "metadata": {}
  },
  {
   "cell_type": "markdown",
   "source": [
    "# =============================================================================="
   ],
   "metadata": {}
  },
  {
   "cell_type": "markdown",
   "source": [
    "# Juntando tudo"
   ],
   "metadata": {}
  },
  {
   "cell_type": "code",
   "execution_count": 83,
   "source": [
    "base = pd.concat([num_confirmado, num_obitos, med_idade_confirmados, num_confirmado_sexo, num_obitos_sexo], axis=1)\r\n",
    "base.fillna(0, inplace=True)\r\n",
    "base.head()"
   ],
   "outputs": [
    {
     "output_type": "execute_result",
     "data": {
      "text/plain": [
       "                                         casos confirmados  obitos  \\\n",
       "2020-03-01 AEROPORTO       60 a 79 anos                1.0     0.0   \n",
       "           ALDEOTA         20 a 39 anos                1.0     0.0   \n",
       "                           40 a 59 anos                2.0     0.0   \n",
       "           ANTONIO BEZERRA 20 a 39 anos                1.0     0.0   \n",
       "                           60 a 79 anos                1.0     0.0   \n",
       "\n",
       "                                         media de idade  \\\n",
       "2020-03-01 AEROPORTO       60 a 79 anos            74.0   \n",
       "           ALDEOTA         20 a 39 anos            35.0   \n",
       "                           40 a 59 anos            45.0   \n",
       "           ANTONIO BEZERRA 20 a 39 anos            21.0   \n",
       "                           60 a 79 anos            63.0   \n",
       "\n",
       "                                         confirmados_masculinos  \\\n",
       "2020-03-01 AEROPORTO       60 a 79 anos                     0.0   \n",
       "           ALDEOTA         20 a 39 anos                     1.0   \n",
       "                           40 a 59 anos                     0.0   \n",
       "           ANTONIO BEZERRA 20 a 39 anos                     1.0   \n",
       "                           60 a 79 anos                     1.0   \n",
       "\n",
       "                                         confirmados_feminino  \\\n",
       "2020-03-01 AEROPORTO       60 a 79 anos                   1.0   \n",
       "           ALDEOTA         20 a 39 anos                   0.0   \n",
       "                           40 a 59 anos                   2.0   \n",
       "           ANTONIO BEZERRA 20 a 39 anos                   0.0   \n",
       "                           60 a 79 anos                   0.0   \n",
       "\n",
       "                                         obitos_masculinos  obitos_feminino  \n",
       "2020-03-01 AEROPORTO       60 a 79 anos                0.0              0.0  \n",
       "           ALDEOTA         20 a 39 anos                0.0              0.0  \n",
       "                           40 a 59 anos                0.0              0.0  \n",
       "           ANTONIO BEZERRA 20 a 39 anos                0.0              0.0  \n",
       "                           60 a 79 anos                0.0              0.0  "
      ],
      "text/html": [
       "<div>\n",
       "<style scoped>\n",
       "    .dataframe tbody tr th:only-of-type {\n",
       "        vertical-align: middle;\n",
       "    }\n",
       "\n",
       "    .dataframe tbody tr th {\n",
       "        vertical-align: top;\n",
       "    }\n",
       "\n",
       "    .dataframe thead th {\n",
       "        text-align: right;\n",
       "    }\n",
       "</style>\n",
       "<table border=\"1\" class=\"dataframe\">\n",
       "  <thead>\n",
       "    <tr style=\"text-align: right;\">\n",
       "      <th></th>\n",
       "      <th></th>\n",
       "      <th></th>\n",
       "      <th>casos confirmados</th>\n",
       "      <th>obitos</th>\n",
       "      <th>media de idade</th>\n",
       "      <th>confirmados_masculinos</th>\n",
       "      <th>confirmados_feminino</th>\n",
       "      <th>obitos_masculinos</th>\n",
       "      <th>obitos_feminino</th>\n",
       "    </tr>\n",
       "  </thead>\n",
       "  <tbody>\n",
       "    <tr>\n",
       "      <th rowspan=\"5\" valign=\"top\">2020-03-01</th>\n",
       "      <th>AEROPORTO</th>\n",
       "      <th>60 a 79 anos</th>\n",
       "      <td>1.0</td>\n",
       "      <td>0.0</td>\n",
       "      <td>74.0</td>\n",
       "      <td>0.0</td>\n",
       "      <td>1.0</td>\n",
       "      <td>0.0</td>\n",
       "      <td>0.0</td>\n",
       "    </tr>\n",
       "    <tr>\n",
       "      <th rowspan=\"2\" valign=\"top\">ALDEOTA</th>\n",
       "      <th>20 a 39 anos</th>\n",
       "      <td>1.0</td>\n",
       "      <td>0.0</td>\n",
       "      <td>35.0</td>\n",
       "      <td>1.0</td>\n",
       "      <td>0.0</td>\n",
       "      <td>0.0</td>\n",
       "      <td>0.0</td>\n",
       "    </tr>\n",
       "    <tr>\n",
       "      <th>40 a 59 anos</th>\n",
       "      <td>2.0</td>\n",
       "      <td>0.0</td>\n",
       "      <td>45.0</td>\n",
       "      <td>0.0</td>\n",
       "      <td>2.0</td>\n",
       "      <td>0.0</td>\n",
       "      <td>0.0</td>\n",
       "    </tr>\n",
       "    <tr>\n",
       "      <th rowspan=\"2\" valign=\"top\">ANTONIO BEZERRA</th>\n",
       "      <th>20 a 39 anos</th>\n",
       "      <td>1.0</td>\n",
       "      <td>0.0</td>\n",
       "      <td>21.0</td>\n",
       "      <td>1.0</td>\n",
       "      <td>0.0</td>\n",
       "      <td>0.0</td>\n",
       "      <td>0.0</td>\n",
       "    </tr>\n",
       "    <tr>\n",
       "      <th>60 a 79 anos</th>\n",
       "      <td>1.0</td>\n",
       "      <td>0.0</td>\n",
       "      <td>63.0</td>\n",
       "      <td>1.0</td>\n",
       "      <td>0.0</td>\n",
       "      <td>0.0</td>\n",
       "      <td>0.0</td>\n",
       "    </tr>\n",
       "  </tbody>\n",
       "</table>\n",
       "</div>"
      ]
     },
     "metadata": {},
     "execution_count": 83
    }
   ],
   "metadata": {}
  },
  {
   "cell_type": "code",
   "execution_count": 84,
   "source": [
    "base.info()"
   ],
   "outputs": [
    {
     "output_type": "stream",
     "name": "stdout",
     "text": [
      "<class 'pandas.core.frame.DataFrame'>\n",
      "MultiIndex: 95503 entries, (Timestamp('2020-03-01 00:00:00'), 'AEROPORTO', '60 a 79 anos') to (Timestamp('2021-07-25 00:00:00'), 'Indeterminado', '40 a 59 anos')\n",
      "Data columns (total 7 columns):\n",
      " #   Column                  Non-Null Count  Dtype  \n",
      "---  ------                  --------------  -----  \n",
      " 0   casos confirmados       95503 non-null  float64\n",
      " 1   obitos                  95503 non-null  float64\n",
      " 2   media de idade          95503 non-null  float64\n",
      " 3   confirmados_masculinos  95503 non-null  float64\n",
      " 4   confirmados_feminino    95503 non-null  float64\n",
      " 5   obitos_masculinos       95503 non-null  float64\n",
      " 6   obitos_feminino         95503 non-null  float64\n",
      "dtypes: float64(7)\n",
      "memory usage: 5.5+ MB\n"
     ]
    }
   ],
   "metadata": {}
  },
  {
   "cell_type": "code",
   "execution_count": 85,
   "source": [
    "base.to_csv('Base_de_dados.csv', sep=';')"
   ],
   "outputs": [],
   "metadata": {}
  }
 ]
}